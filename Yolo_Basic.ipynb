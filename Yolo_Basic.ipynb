{
  "nbformat": 4,
  "nbformat_minor": 0,
  "metadata": {
    "colab": {
      "name": "Yolo_Basic.ipynb",
      "version": "0.3.2",
      "provenance": [],
      "include_colab_link": true
    },
    "kernelspec": {
      "name": "python3",
      "display_name": "Python 3"
    },
    "accelerator": "GPU"
  },
  "cells": [
    {
      "cell_type": "markdown",
      "metadata": {
        "id": "view-in-github",
        "colab_type": "text"
      },
      "source": [
        "[View in Colaboratory](https://colab.research.google.com/github/dsaha78/eip/blob/master/Yolo_Basic.ipynb)"
      ]
    },
    {
      "metadata": {
        "id": "8edSiHPi2N5l",
        "colab_type": "code",
        "colab": {
          "base_uri": "https://localhost:8080/",
          "height": 34
        },
        "outputId": "60464dfa-c4a1-4507-c78f-df2d623c2cf7"
      },
      "cell_type": "code",
      "source": [
        "# https://keras.io/\n",
        "!pip install -q keras\n",
        "import keras\n",
        "\n",
        "import keras\n",
        "from keras.datasets import cifar10\n",
        "from keras.models import Model, Sequential\n",
        "from keras.layers import Dense, Dropout, Flatten, Input, AveragePooling2D, merge, Activation\n",
        "from keras.layers import Conv2D, MaxPooling2D, BatchNormalization\n",
        "from keras.layers import Concatenate\n",
        "from keras.optimizers import Adam\n",
        "from keras.layers.advanced_activations import LeakyReLU\n",
        "from keras.layers import Reshape, Activation, Conv2D, Input, MaxPooling2D, BatchNormalization, Flatten, Dense, Lambda\n",
        "from keras.layers.merge import concatenate\n",
        "\n",
        "# this part will prevent tensorflow to allocate all the avaliable GPU Memory\n",
        "# backend\n",
        "import tensorflow as tf\n",
        "from keras import backend as k\n",
        "\n",
        "# Don't pre-allocate memory; allocate as-needed\n",
        "config = tf.ConfigProto()\n",
        "config.gpu_options.allow_growth = True\n",
        "\n",
        "# Create a session with the above options specified.\n",
        "k.tensorflow_backend.set_session(tf.Session(config=config))\n",
        "\n",
        "# Hyperparameters\n",
        "batch_size = 128\n",
        "num_classes = 10\n",
        "epochs = 3\n",
        "l = 10\n",
        "num_filter = 20"
      ],
      "execution_count": 1,
      "outputs": [
        {
          "output_type": "stream",
          "text": [
            "Using TensorFlow backend.\n"
          ],
          "name": "stderr"
        }
      ]
    },
    {
      "metadata": {
        "id": "-hkvQwOH2cCO",
        "colab_type": "code",
        "colab": {
          "base_uri": "https://localhost:8080/",
          "height": 51
        },
        "outputId": "08a5453a-466a-4425-89c4-10747ae8884a"
      },
      "cell_type": "code",
      "source": [
        "# Load CIFAR10 Data\n",
        "(x_train, y_train), (x_test, y_test) = cifar10.load_data()\n",
        "img_height, img_width, channel = x_train.shape[1],x_train.shape[2],x_train.shape[3]\n",
        "\n",
        "# convert to one hot encoing \n",
        "y_train = keras.utils.to_categorical(y_train, num_classes)\n",
        "y_test = keras.utils.to_categorical(y_test, num_classes)"
      ],
      "execution_count": 2,
      "outputs": [
        {
          "output_type": "stream",
          "text": [
            "Downloading data from https://www.cs.toronto.edu/~kriz/cifar-10-python.tar.gz\n",
            "170500096/170498071 [==============================] - 14s 0us/step\n"
          ],
          "name": "stdout"
        }
      ]
    },
    {
      "metadata": {
        "id": "ztoDypc63gEs",
        "colab_type": "code",
        "colab": {}
      },
      "cell_type": "code",
      "source": [
        "def space_to_depth_x2(x):\n",
        "    return tf.space_to_depth(x, block_size=2)"
      ],
      "execution_count": 0,
      "outputs": []
    },
    {
      "metadata": {
        "id": "SNnGm8Tv2fR1",
        "colab_type": "code",
        "colab": {}
      },
      "cell_type": "code",
      "source": [
        "input = Input(shape=(img_height, img_width, channel,))\n",
        "\n",
        "# Layer 1\n",
        "layer_1 = Conv2D(32, (3,3), strides=(1,1), padding='same', name='conv_1', use_bias=False)(input)\n",
        "layer_1  = BatchNormalization(name='norm_1')(layer_1)\n",
        "layer_1  = LeakyReLU(alpha=0.1)(layer_1)\n",
        "layer_1  = MaxPooling2D(pool_size=(2, 2))(layer_1)\n",
        "\n",
        "# Layer 2\n",
        "layer_2 = Conv2D(64, (3,3), strides=(1,1), padding='same', name='conv_2', use_bias=False)(layer_1)\n",
        "layer_2 = BatchNormalization(name='norm_2')(layer_2)\n",
        "layer_2 = LeakyReLU(alpha=0.1)(layer_2)\n",
        "layer_2 = MaxPooling2D(pool_size=(2, 2))(layer_2)\n",
        "\n",
        "# Layer 3\n",
        "layer_3 = Conv2D(128, (3,3), strides=(1,1), padding='same', name='conv_3', use_bias=False)(layer_2)\n",
        "layer_3 = BatchNormalization(name='norm_3')(layer_3)\n",
        "layer_3 = LeakyReLU(alpha=0.1)(layer_3)\n",
        "\n",
        "# Layer 4\n",
        "layer_4 = Conv2D(64, (1,1), strides=(1,1), padding='same', name='conv_4', use_bias=False)(layer_3)\n",
        "layer_4 = BatchNormalization(name='norm_4')(layer_4)\n",
        "layer_4 = LeakyReLU(alpha=0.1)(layer_4)\n",
        "\n",
        "# Layer 5\n",
        "layer_5 = Conv2D(128, (3,3), strides=(1,1), padding='same', name='conv_5', use_bias=False)(layer_4)\n",
        "layer_5 = BatchNormalization(name='norm_5')(layer_5)\n",
        "layer_5 = LeakyReLU(alpha=0.1)(layer_5)\n",
        "layer_5 = MaxPooling2D(pool_size=(2, 2))(layer_5)\n",
        "\n",
        "# Layer 6\n",
        "layer_6 = Conv2D(256, (3,3), strides=(1,1), padding='same', name='conv_6', use_bias=False)(layer_5)\n",
        "layer_6 = BatchNormalization(name='norm_6')(layer_6)\n",
        "layer_6 = LeakyReLU(alpha=0.1)(layer_6)\n",
        "\n",
        "# Layer 7\n",
        "layer_7 = Conv2D(128, (1,1), strides=(1,1), padding='same', name='conv_7', use_bias=False)(layer_6)\n",
        "layer_7 = BatchNormalization(name='norm_7')(layer_7)\n",
        "layer_7 = LeakyReLU(alpha=0.1)(layer_7)\n",
        "\n",
        "# Layer 8\n",
        "layer_8 = Conv2D(256, (3,3), strides=(1,1), padding='same', name='conv_8', use_bias=False)(layer_7)\n",
        "layer_8 = BatchNormalization(name='norm_8')(layer_8)\n",
        "layer_8 = LeakyReLU(alpha=0.1)(layer_8)\n",
        "layer_8 = MaxPooling2D(pool_size=(2, 2))(layer_8)\n",
        "\n",
        "# Layer 9\n",
        "layer_9 = Conv2D(512, (3,3), strides=(1,1), padding='same', name='conv_9', use_bias=False)(layer_8)\n",
        "layer_9 = BatchNormalization(name='norm_9')(layer_9)\n",
        "layer_9 = LeakyReLU(alpha=0.1)(layer_9)\n",
        "\n",
        "# Layer 10\n",
        "layer_10 = Conv2D(256, (1,1), strides=(1,1), padding='same', name='conv_10', use_bias=False)(layer_9)\n",
        "layer_10 = BatchNormalization(name='norm_10')(layer_10)\n",
        "layer_10 = LeakyReLU(alpha=0.1)(layer_10)\n",
        "\n",
        "# Layer 11\n",
        "layer_11 = Conv2D(512, (3,3), strides=(1,1), padding='same', name='conv_11', use_bias=False)(layer_10)\n",
        "layer_11 = BatchNormalization(name='norm_11')(layer_11)\n",
        "layer_11 = LeakyReLU(alpha=0.1)(layer_11)\n",
        "\n",
        "# Layer 12\n",
        "layer_12 = Conv2D(256, (1,1), strides=(1,1), padding='same', name='conv_12', use_bias=False)(layer_11)\n",
        "layer_12 = BatchNormalization(name='norm_12')(layer_12)\n",
        "layer_12 = LeakyReLU(alpha=0.1)(layer_12)\n",
        "\n",
        "skip_connection = layer_12\n",
        "\n",
        "# Layer 13\n",
        "layer_13 = Conv2D(512, (3,3), strides=(1,1), padding='same', name='conv_13', use_bias=False)(layer_12)\n",
        "layer_13 = BatchNormalization(name='norm_13')(layer_13)\n",
        "layer_13 = LeakyReLU(alpha=0.1)(layer_13)\n",
        "\n",
        "#skip_connection = layer_13\n",
        "\n",
        "layer_13 = MaxPooling2D(pool_size=(2, 2))(layer_13)\n",
        "\n",
        "# Layer 14\n",
        "layer_14 = Conv2D(1024, (3,3), strides=(1,1), padding='same', name='conv_14', use_bias=False)(layer_13)\n",
        "layer_14 = BatchNormalization(name='norm_14')(layer_14)\n",
        "layer_14 = LeakyReLU(alpha=0.1)(layer_14)\n",
        "\n",
        "# Layer 15\n",
        "layer_15 = Conv2D(512, (1,1), strides=(1,1), padding='same', name='conv_15', use_bias=False)(layer_14)\n",
        "layer_15 = BatchNormalization(name='norm_15')(layer_15)\n",
        "layer_15 = LeakyReLU(alpha=0.1)(layer_15)\n",
        "\n",
        "# Layer 16\n",
        "layer_16 = Conv2D(1024, (3,3), strides=(1,1), padding='same', name='conv_16', use_bias=False)(layer_15)\n",
        "layer_16 = BatchNormalization(name='norm_16')(layer_16)\n",
        "layer_16 = LeakyReLU(alpha=0.1)(layer_16)\n",
        "\n",
        "# Layer 17\n",
        "layer_17 = Conv2D(512, (1,1), strides=(1,1), padding='same', name='conv_17', use_bias=False)(layer_16)\n",
        "layer_17 = BatchNormalization(name='norm_17')(layer_17)\n",
        "layer_17 = LeakyReLU(alpha=0.1)(layer_17)\n",
        "\n",
        "# Layer 18\n",
        "layer_18 = Conv2D(1024, (3,3), strides=(1,1), padding='same', name='conv_18', use_bias=False)(layer_17)\n",
        "layer_18 = BatchNormalization(name='norm_18')(layer_18)\n",
        "layer_18 = LeakyReLU(alpha=0.1)(layer_18)\n",
        "\n",
        "# Layer 19\n",
        "layer_19 = Conv2D(1024, (3,3), strides=(1,1), padding='same', name='conv_19', use_bias=False)(layer_18)\n",
        "layer_19 = BatchNormalization(name='norm_19')(layer_19)\n",
        "layer_19 = LeakyReLU(alpha=0.1)(layer_19)\n",
        "\n",
        "# Layer 20\n",
        "layer_20 = Conv2D(1024, (3,3), strides=(1,1), padding='same', name='conv_20', use_bias=False)(layer_19)\n",
        "layer_20 = BatchNormalization(name='norm_20')(layer_20)\n",
        "layer_20 = LeakyReLU(alpha=0.1)(layer_20)\n",
        "\n",
        "# Layer 21\n",
        "skip_connection = Conv2D(64, (1,1), strides=(1,1), padding='same', name='conv_21', use_bias=False)(skip_connection)\n",
        "skip_connection = BatchNormalization(name='norm_21')(skip_connection)\n",
        "skip_connection = LeakyReLU(alpha=0.1)(skip_connection)\n",
        "skip_connection = Lambda(space_to_depth_x2)(skip_connection)\n",
        "\n",
        "layer_21 = concatenate([skip_connection, layer_20])\n",
        "\n",
        "# Layer 22\n",
        "layer_22 = Conv2D(1024, (3,3), strides=(1,1), padding='same', name='conv_22', use_bias=False)(layer_21)\n",
        "layer_22 = BatchNormalization(name='norm_22')(layer_22)\n",
        "layer_22 = LeakyReLU(alpha=0.1)(layer_22)\n",
        "\n",
        "# Layer 23\n",
        "layer_23 = Flatten()(layer_22)\n",
        "\n",
        "output = Dense(num_classes, activation='softmax')(layer_23)\n",
        "\n"
      ],
      "execution_count": 0,
      "outputs": []
    },
    {
      "metadata": {
        "id": "Jeh0VAxy26NV",
        "colab_type": "code",
        "colab": {
          "base_uri": "https://localhost:8080/",
          "height": 2737
        },
        "outputId": "08542134-05c5-4d9b-a7c7-1f3aa17ad71a"
      },
      "cell_type": "code",
      "source": [
        "model = Model(inputs=[input], outputs=[output])\n",
        "model.summary()"
      ],
      "execution_count": 23,
      "outputs": [
        {
          "output_type": "stream",
          "text": [
            "__________________________________________________________________________________________________\n",
            "Layer (type)                    Output Shape         Param #     Connected to                     \n",
            "==================================================================================================\n",
            "input_12 (InputLayer)           (None, 32, 32, 3)    0                                            \n",
            "__________________________________________________________________________________________________\n",
            "conv_1 (Conv2D)                 (None, 32, 32, 32)   864         input_12[0][0]                   \n",
            "__________________________________________________________________________________________________\n",
            "norm_1 (BatchNormalization)     (None, 32, 32, 32)   128         conv_1[0][0]                     \n",
            "__________________________________________________________________________________________________\n",
            "leaky_re_lu_194 (LeakyReLU)     (None, 32, 32, 32)   0           norm_1[0][0]                     \n",
            "__________________________________________________________________________________________________\n",
            "max_pooling2d_50 (MaxPooling2D) (None, 16, 16, 32)   0           leaky_re_lu_194[0][0]            \n",
            "__________________________________________________________________________________________________\n",
            "conv_2 (Conv2D)                 (None, 16, 16, 64)   18432       max_pooling2d_50[0][0]           \n",
            "__________________________________________________________________________________________________\n",
            "norm_2 (BatchNormalization)     (None, 16, 16, 64)   256         conv_2[0][0]                     \n",
            "__________________________________________________________________________________________________\n",
            "leaky_re_lu_195 (LeakyReLU)     (None, 16, 16, 64)   0           norm_2[0][0]                     \n",
            "__________________________________________________________________________________________________\n",
            "max_pooling2d_51 (MaxPooling2D) (None, 8, 8, 64)     0           leaky_re_lu_195[0][0]            \n",
            "__________________________________________________________________________________________________\n",
            "conv_3 (Conv2D)                 (None, 8, 8, 128)    73728       max_pooling2d_51[0][0]           \n",
            "__________________________________________________________________________________________________\n",
            "norm_3 (BatchNormalization)     (None, 8, 8, 128)    512         conv_3[0][0]                     \n",
            "__________________________________________________________________________________________________\n",
            "leaky_re_lu_196 (LeakyReLU)     (None, 8, 8, 128)    0           norm_3[0][0]                     \n",
            "__________________________________________________________________________________________________\n",
            "conv_4 (Conv2D)                 (None, 8, 8, 64)     8192        leaky_re_lu_196[0][0]            \n",
            "__________________________________________________________________________________________________\n",
            "norm_4 (BatchNormalization)     (None, 8, 8, 64)     256         conv_4[0][0]                     \n",
            "__________________________________________________________________________________________________\n",
            "leaky_re_lu_197 (LeakyReLU)     (None, 8, 8, 64)     0           norm_4[0][0]                     \n",
            "__________________________________________________________________________________________________\n",
            "conv_5 (Conv2D)                 (None, 8, 8, 128)    73728       leaky_re_lu_197[0][0]            \n",
            "__________________________________________________________________________________________________\n",
            "norm_5 (BatchNormalization)     (None, 8, 8, 128)    512         conv_5[0][0]                     \n",
            "__________________________________________________________________________________________________\n",
            "leaky_re_lu_198 (LeakyReLU)     (None, 8, 8, 128)    0           norm_5[0][0]                     \n",
            "__________________________________________________________________________________________________\n",
            "max_pooling2d_52 (MaxPooling2D) (None, 4, 4, 128)    0           leaky_re_lu_198[0][0]            \n",
            "__________________________________________________________________________________________________\n",
            "conv_6 (Conv2D)                 (None, 4, 4, 256)    294912      max_pooling2d_52[0][0]           \n",
            "__________________________________________________________________________________________________\n",
            "norm_6 (BatchNormalization)     (None, 4, 4, 256)    1024        conv_6[0][0]                     \n",
            "__________________________________________________________________________________________________\n",
            "leaky_re_lu_199 (LeakyReLU)     (None, 4, 4, 256)    0           norm_6[0][0]                     \n",
            "__________________________________________________________________________________________________\n",
            "conv_7 (Conv2D)                 (None, 4, 4, 128)    32768       leaky_re_lu_199[0][0]            \n",
            "__________________________________________________________________________________________________\n",
            "norm_7 (BatchNormalization)     (None, 4, 4, 128)    512         conv_7[0][0]                     \n",
            "__________________________________________________________________________________________________\n",
            "leaky_re_lu_200 (LeakyReLU)     (None, 4, 4, 128)    0           norm_7[0][0]                     \n",
            "__________________________________________________________________________________________________\n",
            "conv_8 (Conv2D)                 (None, 4, 4, 256)    294912      leaky_re_lu_200[0][0]            \n",
            "__________________________________________________________________________________________________\n",
            "norm_8 (BatchNormalization)     (None, 4, 4, 256)    1024        conv_8[0][0]                     \n",
            "__________________________________________________________________________________________________\n",
            "leaky_re_lu_201 (LeakyReLU)     (None, 4, 4, 256)    0           norm_8[0][0]                     \n",
            "__________________________________________________________________________________________________\n",
            "max_pooling2d_53 (MaxPooling2D) (None, 2, 2, 256)    0           leaky_re_lu_201[0][0]            \n",
            "__________________________________________________________________________________________________\n",
            "conv_9 (Conv2D)                 (None, 2, 2, 512)    1179648     max_pooling2d_53[0][0]           \n",
            "__________________________________________________________________________________________________\n",
            "norm_9 (BatchNormalization)     (None, 2, 2, 512)    2048        conv_9[0][0]                     \n",
            "__________________________________________________________________________________________________\n",
            "leaky_re_lu_202 (LeakyReLU)     (None, 2, 2, 512)    0           norm_9[0][0]                     \n",
            "__________________________________________________________________________________________________\n",
            "conv_10 (Conv2D)                (None, 2, 2, 256)    131072      leaky_re_lu_202[0][0]            \n",
            "__________________________________________________________________________________________________\n",
            "norm_10 (BatchNormalization)    (None, 2, 2, 256)    1024        conv_10[0][0]                    \n",
            "__________________________________________________________________________________________________\n",
            "leaky_re_lu_203 (LeakyReLU)     (None, 2, 2, 256)    0           norm_10[0][0]                    \n",
            "__________________________________________________________________________________________________\n",
            "conv_11 (Conv2D)                (None, 2, 2, 512)    1179648     leaky_re_lu_203[0][0]            \n",
            "__________________________________________________________________________________________________\n",
            "norm_11 (BatchNormalization)    (None, 2, 2, 512)    2048        conv_11[0][0]                    \n",
            "__________________________________________________________________________________________________\n",
            "leaky_re_lu_204 (LeakyReLU)     (None, 2, 2, 512)    0           norm_11[0][0]                    \n",
            "__________________________________________________________________________________________________\n",
            "conv_12 (Conv2D)                (None, 2, 2, 256)    131072      leaky_re_lu_204[0][0]            \n",
            "__________________________________________________________________________________________________\n",
            "norm_12 (BatchNormalization)    (None, 2, 2, 256)    1024        conv_12[0][0]                    \n",
            "__________________________________________________________________________________________________\n",
            "leaky_re_lu_205 (LeakyReLU)     (None, 2, 2, 256)    0           norm_12[0][0]                    \n",
            "__________________________________________________________________________________________________\n",
            "conv_13 (Conv2D)                (None, 2, 2, 512)    1179648     leaky_re_lu_205[0][0]            \n",
            "__________________________________________________________________________________________________\n",
            "norm_13 (BatchNormalization)    (None, 2, 2, 512)    2048        conv_13[0][0]                    \n",
            "__________________________________________________________________________________________________\n",
            "leaky_re_lu_206 (LeakyReLU)     (None, 2, 2, 512)    0           norm_13[0][0]                    \n",
            "__________________________________________________________________________________________________\n",
            "max_pooling2d_54 (MaxPooling2D) (None, 1, 1, 512)    0           leaky_re_lu_206[0][0]            \n",
            "__________________________________________________________________________________________________\n",
            "conv_14 (Conv2D)                (None, 1, 1, 1024)   4718592     max_pooling2d_54[0][0]           \n",
            "__________________________________________________________________________________________________\n",
            "norm_14 (BatchNormalization)    (None, 1, 1, 1024)   4096        conv_14[0][0]                    \n",
            "__________________________________________________________________________________________________\n",
            "leaky_re_lu_207 (LeakyReLU)     (None, 1, 1, 1024)   0           norm_14[0][0]                    \n",
            "__________________________________________________________________________________________________\n",
            "conv_15 (Conv2D)                (None, 1, 1, 512)    524288      leaky_re_lu_207[0][0]            \n",
            "__________________________________________________________________________________________________\n",
            "norm_15 (BatchNormalization)    (None, 1, 1, 512)    2048        conv_15[0][0]                    \n",
            "__________________________________________________________________________________________________\n",
            "leaky_re_lu_208 (LeakyReLU)     (None, 1, 1, 512)    0           norm_15[0][0]                    \n",
            "__________________________________________________________________________________________________\n",
            "conv_16 (Conv2D)                (None, 1, 1, 1024)   4718592     leaky_re_lu_208[0][0]            \n",
            "__________________________________________________________________________________________________\n",
            "norm_16 (BatchNormalization)    (None, 1, 1, 1024)   4096        conv_16[0][0]                    \n",
            "__________________________________________________________________________________________________\n",
            "leaky_re_lu_209 (LeakyReLU)     (None, 1, 1, 1024)   0           norm_16[0][0]                    \n",
            "__________________________________________________________________________________________________\n",
            "conv_17 (Conv2D)                (None, 1, 1, 512)    524288      leaky_re_lu_209[0][0]            \n",
            "__________________________________________________________________________________________________\n",
            "norm_17 (BatchNormalization)    (None, 1, 1, 512)    2048        conv_17[0][0]                    \n",
            "__________________________________________________________________________________________________\n",
            "leaky_re_lu_210 (LeakyReLU)     (None, 1, 1, 512)    0           norm_17[0][0]                    \n",
            "__________________________________________________________________________________________________\n",
            "conv_18 (Conv2D)                (None, 1, 1, 1024)   4718592     leaky_re_lu_210[0][0]            \n",
            "__________________________________________________________________________________________________\n",
            "norm_18 (BatchNormalization)    (None, 1, 1, 1024)   4096        conv_18[0][0]                    \n",
            "__________________________________________________________________________________________________\n",
            "leaky_re_lu_211 (LeakyReLU)     (None, 1, 1, 1024)   0           norm_18[0][0]                    \n",
            "__________________________________________________________________________________________________\n",
            "conv_19 (Conv2D)                (None, 1, 1, 1024)   9437184     leaky_re_lu_211[0][0]            \n",
            "__________________________________________________________________________________________________\n",
            "norm_19 (BatchNormalization)    (None, 1, 1, 1024)   4096        conv_19[0][0]                    \n",
            "__________________________________________________________________________________________________\n",
            "conv_21 (Conv2D)                (None, 2, 2, 64)     16384       leaky_re_lu_205[0][0]            \n",
            "__________________________________________________________________________________________________\n",
            "leaky_re_lu_212 (LeakyReLU)     (None, 1, 1, 1024)   0           norm_19[0][0]                    \n",
            "__________________________________________________________________________________________________\n",
            "norm_21 (BatchNormalization)    (None, 2, 2, 64)     256         conv_21[0][0]                    \n",
            "__________________________________________________________________________________________________\n",
            "conv_20 (Conv2D)                (None, 1, 1, 1024)   9437184     leaky_re_lu_212[0][0]            \n",
            "__________________________________________________________________________________________________\n",
            "leaky_re_lu_214 (LeakyReLU)     (None, 2, 2, 64)     0           norm_21[0][0]                    \n",
            "__________________________________________________________________________________________________\n",
            "norm_20 (BatchNormalization)    (None, 1, 1, 1024)   4096        conv_20[0][0]                    \n",
            "__________________________________________________________________________________________________\n",
            "lambda_8 (Lambda)               (None, 1, 1, 256)    0           leaky_re_lu_214[0][0]            \n",
            "__________________________________________________________________________________________________\n",
            "leaky_re_lu_213 (LeakyReLU)     (None, 1, 1, 1024)   0           norm_20[0][0]                    \n",
            "__________________________________________________________________________________________________\n",
            "concatenate_6 (Concatenate)     (None, 1, 1, 1280)   0           lambda_8[0][0]                   \n",
            "                                                                 leaky_re_lu_213[0][0]            \n",
            "__________________________________________________________________________________________________\n",
            "conv_22 (Conv2D)                (None, 1, 1, 1024)   11796480    concatenate_6[0][0]              \n",
            "__________________________________________________________________________________________________\n",
            "norm_22 (BatchNormalization)    (None, 1, 1, 1024)   4096        conv_22[0][0]                    \n",
            "__________________________________________________________________________________________________\n",
            "leaky_re_lu_215 (LeakyReLU)     (None, 1, 1, 1024)   0           norm_22[0][0]                    \n",
            "__________________________________________________________________________________________________\n",
            "flatten_6 (Flatten)             (None, 1024)         0           leaky_re_lu_215[0][0]            \n",
            "__________________________________________________________________________________________________\n",
            "dense_6 (Dense)                 (None, 10)           10250       flatten_6[0][0]                  \n",
            "==================================================================================================\n",
            "Total params: 50,541,802\n",
            "Trainable params: 50,521,130\n",
            "Non-trainable params: 20,672\n",
            "__________________________________________________________________________________________________\n"
          ],
          "name": "stdout"
        }
      ]
    },
    {
      "metadata": {
        "id": "apCwOjvZ4Kts",
        "colab_type": "code",
        "colab": {}
      },
      "cell_type": "code",
      "source": [
        "# determine Loss function and Optimizer\n",
        "model.compile(loss='categorical_crossentropy',\n",
        "              optimizer=Adam(),\n",
        "              metrics=['accuracy'])"
      ],
      "execution_count": 0,
      "outputs": []
    },
    {
      "metadata": {
        "id": "tLaFy2AO4TLl",
        "colab_type": "code",
        "colab": {
          "base_uri": "https://localhost:8080/",
          "height": 153
        },
        "outputId": "670aa435-f52a-40c5-ba3a-a6a7c122a79c"
      },
      "cell_type": "code",
      "source": [
        "model.fit(x_train, y_train,\n",
        "                    batch_size=batch_size,\n",
        "                    epochs=epochs,\n",
        "                    verbose=1,\n",
        "                    validation_data=(x_test, y_test))"
      ],
      "execution_count": 25,
      "outputs": [
        {
          "output_type": "stream",
          "text": [
            "Train on 50000 samples, validate on 10000 samples\n",
            "Epoch 1/3\n",
            "50000/50000 [==============================] - 102s 2ms/step - loss: 1.4506 - acc: 0.4706 - val_loss: 3.3633 - val_acc: 0.2862\n",
            "Epoch 2/3\n",
            "50000/50000 [==============================] - 94s 2ms/step - loss: 1.0012 - acc: 0.6439 - val_loss: 1.3219 - val_acc: 0.5848\n",
            "Epoch 3/3\n",
            "50000/50000 [==============================] - 94s 2ms/step - loss: 0.7975 - acc: 0.7195 - val_loss: 0.9935 - val_acc: 0.6625\n"
          ],
          "name": "stdout"
        },
        {
          "output_type": "execute_result",
          "data": {
            "text/plain": [
              "<keras.callbacks.History at 0x7efb9e385780>"
            ]
          },
          "metadata": {
            "tags": []
          },
          "execution_count": 25
        }
      ]
    },
    {
      "metadata": {
        "id": "pTfZIGrf4Uyd",
        "colab_type": "code",
        "colab": {
          "base_uri": "https://localhost:8080/",
          "height": 85
        },
        "outputId": "cd735c4e-1229-4979-d94b-d2f2cfa199ef"
      },
      "cell_type": "code",
      "source": [
        "# Test the model\n",
        "score = model.evaluate(x_test, y_test, verbose=1)\n",
        "print('Test loss:', score[0])\n",
        "print('Test accuracy:', score[1])\n",
        "# Save the trained weights in to .h5 format\n",
        "model.save_weights(\"Yolo_Basic_model2.h5\")\n",
        "print(\"Saved the model to disk\")"
      ],
      "execution_count": 26,
      "outputs": [
        {
          "output_type": "stream",
          "text": [
            "10000/10000 [==============================] - 10s 1ms/step\n",
            "Test loss: 0.993465172958374\n",
            "Test accuracy: 0.6625\n",
            "Saved the model to disk\n"
          ],
          "name": "stdout"
        }
      ]
    },
    {
      "metadata": {
        "id": "Jiyb9TlVGsZs",
        "colab_type": "code",
        "colab": {
          "base_uri": "https://localhost:8080/",
          "height": 333
        },
        "outputId": "0165af41-9cd0-449b-f6dc-a6bf15d7e21b"
      },
      "cell_type": "code",
      "source": [
        "model.save_weights(\"Yolo_Basic_model2.h5\")\n",
        "print(\"Saved the model to disk\")\n",
        "from google.colab import files\n",
        "\n",
        "files.download('Yolo_Basic_model.h5')"
      ],
      "execution_count": 28,
      "outputs": [
        {
          "output_type": "stream",
          "text": [
            "Saved the model to disk\n"
          ],
          "name": "stdout"
        },
        {
          "output_type": "error",
          "ename": "FileNotFoundError",
          "evalue": "ignored",
          "traceback": [
            "\u001b[0;31m---------------------------------------------------------------------------\u001b[0m",
            "\u001b[0;31mFileNotFoundError\u001b[0m                         Traceback (most recent call last)",
            "\u001b[0;32m<ipython-input-28-7fd61af6c08d>\u001b[0m in \u001b[0;36m<module>\u001b[0;34m()\u001b[0m\n\u001b[1;32m      3\u001b[0m \u001b[0;32mfrom\u001b[0m \u001b[0mgoogle\u001b[0m\u001b[0;34m.\u001b[0m\u001b[0mcolab\u001b[0m \u001b[0;32mimport\u001b[0m \u001b[0mfiles\u001b[0m\u001b[0;34m\u001b[0m\u001b[0m\n\u001b[1;32m      4\u001b[0m \u001b[0;34m\u001b[0m\u001b[0m\n\u001b[0;32m----> 5\u001b[0;31m \u001b[0mfiles\u001b[0m\u001b[0;34m.\u001b[0m\u001b[0mdownload\u001b[0m\u001b[0;34m(\u001b[0m\u001b[0;34m'Yolo_Basic_model.h5'\u001b[0m\u001b[0;34m)\u001b[0m\u001b[0;34m\u001b[0m\u001b[0m\n\u001b[0m",
            "\u001b[0;32m/usr/local/lib/python3.6/dist-packages/google/colab/files.py\u001b[0m in \u001b[0;36mdownload\u001b[0;34m(filename)\u001b[0m\n\u001b[1;32m    140\u001b[0m       \u001b[0;32mraise\u001b[0m \u001b[0mOSError\u001b[0m\u001b[0;34m(\u001b[0m\u001b[0mmsg\u001b[0m\u001b[0;34m)\u001b[0m\u001b[0;34m\u001b[0m\u001b[0m\n\u001b[1;32m    141\u001b[0m     \u001b[0;32melse\u001b[0m\u001b[0;34m:\u001b[0m\u001b[0;34m\u001b[0m\u001b[0m\n\u001b[0;32m--> 142\u001b[0;31m       \u001b[0;32mraise\u001b[0m \u001b[0mFileNotFoundError\u001b[0m\u001b[0;34m(\u001b[0m\u001b[0mmsg\u001b[0m\u001b[0;34m)\u001b[0m  \u001b[0;31m# pylint: disable=undefined-variable\u001b[0m\u001b[0;34m\u001b[0m\u001b[0m\n\u001b[0m\u001b[1;32m    143\u001b[0m \u001b[0;34m\u001b[0m\u001b[0m\n\u001b[1;32m    144\u001b[0m   \u001b[0mstarted\u001b[0m \u001b[0;34m=\u001b[0m \u001b[0mthreading\u001b[0m\u001b[0;34m.\u001b[0m\u001b[0mEvent\u001b[0m\u001b[0;34m(\u001b[0m\u001b[0;34m)\u001b[0m\u001b[0;34m\u001b[0m\u001b[0m\n",
            "\u001b[0;31mFileNotFoundError\u001b[0m: Cannot find file: Yolo_Basic_model.h5"
          ]
        }
      ]
    },
    {
      "metadata": {
        "id": "g9A3pesKbUJ8",
        "colab_type": "code",
        "colab": {}
      },
      "cell_type": "code",
      "source": [
        ""
      ],
      "execution_count": 0,
      "outputs": []
    }
  ]
}